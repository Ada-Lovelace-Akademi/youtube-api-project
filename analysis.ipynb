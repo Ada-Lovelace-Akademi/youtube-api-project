{
 "cells": [
  {
   "cell_type": "code",
   "execution_count": 20,
   "metadata": {},
   "outputs": [],
   "source": [
    "import pandas as pd\n",
    "import isodate\n",
    "from dateutil import parser\n",
    "\n",
    "from googleapiclient.discovery import build\n",
    "from IPython.display import JSON\n",
    "\n",
    "from config.config import YOUTUBE_API_KEY\n",
    "from api_methods import collect_channel_stats, collect_video_ids, collect_video_details"
   ]
  },
  {
   "cell_type": "code",
   "execution_count": 2,
   "metadata": {},
   "outputs": [],
   "source": [
    "# Get credentials and create an API client\n",
    "api_service_name = \"youtube\"\n",
    "api_version = \"v3\"\n",
    "\n",
    "youtube = build(api_service_name, api_version, developerKey=YOUTUBE_API_KEY)"
   ]
  },
  {
   "cell_type": "code",
   "execution_count": 3,
   "metadata": {},
   "outputs": [],
   "source": [
    "# Channels to analyze\n",
    "channel_ids = [\n",
    "    \"UCYO_jab_esuFRV4b17AJtAw\",\n",
    "    # Can add more channels\n",
    "]"
   ]
  },
  {
   "cell_type": "code",
   "execution_count": 4,
   "metadata": {},
   "outputs": [],
   "source": [
    "channel_stats = collect_channel_stats(youtube, channel_ids)"
   ]
  },
  {
   "cell_type": "code",
   "execution_count": 12,
   "metadata": {},
   "outputs": [
    {
     "data": {
      "text/html": [
       "<div>\n",
       "<style scoped>\n",
       "    .dataframe tbody tr th:only-of-type {\n",
       "        vertical-align: middle;\n",
       "    }\n",
       "\n",
       "    .dataframe tbody tr th {\n",
       "        vertical-align: top;\n",
       "    }\n",
       "\n",
       "    .dataframe thead th {\n",
       "        text-align: right;\n",
       "    }\n",
       "</style>\n",
       "<table border=\"1\" class=\"dataframe\">\n",
       "  <thead>\n",
       "    <tr style=\"text-align: right;\">\n",
       "      <th></th>\n",
       "      <th>channelName</th>\n",
       "      <th>subscribers</th>\n",
       "      <th>views</th>\n",
       "      <th>totalVideos</th>\n",
       "      <th>playlistId</th>\n",
       "    </tr>\n",
       "  </thead>\n",
       "  <tbody>\n",
       "    <tr>\n",
       "      <th>0</th>\n",
       "      <td>3Blue1Brown</td>\n",
       "      <td>5720000</td>\n",
       "      <td>408569095</td>\n",
       "      <td>156</td>\n",
       "      <td>UUYO_jab_esuFRV4b17AJtAw</td>\n",
       "    </tr>\n",
       "  </tbody>\n",
       "</table>\n",
       "</div>"
      ],
      "text/plain": [
       "   channelName subscribers      views totalVideos                playlistId\n",
       "0  3Blue1Brown     5720000  408569095         156  UUYO_jab_esuFRV4b17AJtAw"
      ]
     },
     "execution_count": 12,
     "metadata": {},
     "output_type": "execute_result"
    }
   ],
   "source": [
    "channel_stats.head()"
   ]
  },
  {
   "cell_type": "code",
   "execution_count": 6,
   "metadata": {},
   "outputs": [],
   "source": [
    "playlist_id = channel_stats.loc[channel_stats['channelName']== \"3Blue1Brown\", \"playlistId\"].iloc[0]"
   ]
  },
  {
   "cell_type": "code",
   "execution_count": 7,
   "metadata": {},
   "outputs": [],
   "source": [
    "video_ids = collect_video_ids(youtube, playlist_id)"
   ]
  },
  {
   "cell_type": "code",
   "execution_count": 8,
   "metadata": {},
   "outputs": [
    {
     "data": {
      "text/plain": [
       "157"
      ]
     },
     "execution_count": 8,
     "metadata": {},
     "output_type": "execute_result"
    }
   ],
   "source": [
    "len(video_ids)"
   ]
  },
  {
   "cell_type": "code",
   "execution_count": 23,
   "metadata": {},
   "outputs": [],
   "source": [
    "video_df = collect_video_details(youtube, video_ids)"
   ]
  },
  {
   "cell_type": "code",
   "execution_count": 24,
   "metadata": {},
   "outputs": [
    {
     "data": {
      "text/html": [
       "<div>\n",
       "<style scoped>\n",
       "    .dataframe tbody tr th:only-of-type {\n",
       "        vertical-align: middle;\n",
       "    }\n",
       "\n",
       "    .dataframe tbody tr th {\n",
       "        vertical-align: top;\n",
       "    }\n",
       "\n",
       "    .dataframe thead th {\n",
       "        text-align: right;\n",
       "    }\n",
       "</style>\n",
       "<table border=\"1\" class=\"dataframe\">\n",
       "  <thead>\n",
       "    <tr style=\"text-align: right;\">\n",
       "      <th></th>\n",
       "      <th>video_id</th>\n",
       "      <th>channelTitle</th>\n",
       "      <th>title</th>\n",
       "      <th>description</th>\n",
       "      <th>tags</th>\n",
       "      <th>publishedAt</th>\n",
       "      <th>viewCount</th>\n",
       "      <th>likeCount</th>\n",
       "      <th>favouriteCount</th>\n",
       "      <th>commentCount</th>\n",
       "      <th>duration</th>\n",
       "      <th>definition</th>\n",
       "      <th>caption</th>\n",
       "    </tr>\n",
       "  </thead>\n",
       "  <tbody>\n",
       "    <tr>\n",
       "      <th>0</th>\n",
       "      <td>tjIOqIr80ns</td>\n",
       "      <td>3Blue1Brown</td>\n",
       "      <td>The limit of limiting arguments</td>\n",
       "      <td>A link to the full video is at the bottom of t...</td>\n",
       "      <td>[Mathematics, three blue one brown, 3 blue 1 b...</td>\n",
       "      <td>2023-12-23T00:00:26Z</td>\n",
       "      <td>485539</td>\n",
       "      <td>27741</td>\n",
       "      <td>None</td>\n",
       "      <td>239</td>\n",
       "      <td>PT51S</td>\n",
       "      <td>hd</td>\n",
       "      <td>false</td>\n",
       "    </tr>\n",
       "    <tr>\n",
       "      <th>1</th>\n",
       "      <td>W1gW1dHRsOw</td>\n",
       "      <td>3Blue1Brown</td>\n",
       "      <td>For anyone who might not know how links in sho...</td>\n",
       "      <td>YouTube disabled links in descriptions and com...</td>\n",
       "      <td>[Mathematics, three blue one brown, 3 blue 1 b...</td>\n",
       "      <td>2023-12-21T00:15:02Z</td>\n",
       "      <td>145397</td>\n",
       "      <td>10902</td>\n",
       "      <td>None</td>\n",
       "      <td>309</td>\n",
       "      <td>PT1M</td>\n",
       "      <td>hd</td>\n",
       "      <td>false</td>\n",
       "    </tr>\n",
       "    <tr>\n",
       "      <th>2</th>\n",
       "      <td>p9i3cYMQtBY</td>\n",
       "      <td>3Blue1Brown</td>\n",
       "      <td>Infinite Lighthouses and π</td>\n",
       "      <td>A link to the full video is at the bottom of t...</td>\n",
       "      <td>[Mathematics, three blue one brown, 3 blue 1 b...</td>\n",
       "      <td>2023-12-21T00:00:20Z</td>\n",
       "      <td>601220</td>\n",
       "      <td>45647</td>\n",
       "      <td>None</td>\n",
       "      <td>277</td>\n",
       "      <td>PT1M</td>\n",
       "      <td>hd</td>\n",
       "      <td>false</td>\n",
       "    </tr>\n",
       "    <tr>\n",
       "      <th>3</th>\n",
       "      <td>X4jpqCu-wlA</td>\n",
       "      <td>3Blue1Brown</td>\n",
       "      <td>Can you even imagine 2^256?</td>\n",
       "      <td>Originally written as a supplement to an expla...</td>\n",
       "      <td>[Mathematics, three blue one brown, 3 blue 1 b...</td>\n",
       "      <td>2023-12-16T00:00:24Z</td>\n",
       "      <td>787794</td>\n",
       "      <td>49585</td>\n",
       "      <td>None</td>\n",
       "      <td>465</td>\n",
       "      <td>PT1M</td>\n",
       "      <td>hd</td>\n",
       "      <td>false</td>\n",
       "    </tr>\n",
       "    <tr>\n",
       "      <th>4</th>\n",
       "      <td>GOSezO0CHss</td>\n",
       "      <td>3Blue1Brown</td>\n",
       "      <td>Order from chaos</td>\n",
       "      <td>A link to the full video on the Central Limit ...</td>\n",
       "      <td>[Mathematics, three blue one brown, 3 blue 1 b...</td>\n",
       "      <td>2023-12-15T00:00:13Z</td>\n",
       "      <td>6960124</td>\n",
       "      <td>194125</td>\n",
       "      <td>None</td>\n",
       "      <td>1187</td>\n",
       "      <td>PT50S</td>\n",
       "      <td>hd</td>\n",
       "      <td>false</td>\n",
       "    </tr>\n",
       "  </tbody>\n",
       "</table>\n",
       "</div>"
      ],
      "text/plain": [
       "      video_id channelTitle  \\\n",
       "0  tjIOqIr80ns  3Blue1Brown   \n",
       "1  W1gW1dHRsOw  3Blue1Brown   \n",
       "2  p9i3cYMQtBY  3Blue1Brown   \n",
       "3  X4jpqCu-wlA  3Blue1Brown   \n",
       "4  GOSezO0CHss  3Blue1Brown   \n",
       "\n",
       "                                               title  \\\n",
       "0                    The limit of limiting arguments   \n",
       "1  For anyone who might not know how links in sho...   \n",
       "2                         Infinite Lighthouses and π   \n",
       "3                        Can you even imagine 2^256?   \n",
       "4                                   Order from chaos   \n",
       "\n",
       "                                         description  \\\n",
       "0  A link to the full video is at the bottom of t...   \n",
       "1  YouTube disabled links in descriptions and com...   \n",
       "2  A link to the full video is at the bottom of t...   \n",
       "3  Originally written as a supplement to an expla...   \n",
       "4  A link to the full video on the Central Limit ...   \n",
       "\n",
       "                                                tags           publishedAt  \\\n",
       "0  [Mathematics, three blue one brown, 3 blue 1 b...  2023-12-23T00:00:26Z   \n",
       "1  [Mathematics, three blue one brown, 3 blue 1 b...  2023-12-21T00:15:02Z   \n",
       "2  [Mathematics, three blue one brown, 3 blue 1 b...  2023-12-21T00:00:20Z   \n",
       "3  [Mathematics, three blue one brown, 3 blue 1 b...  2023-12-16T00:00:24Z   \n",
       "4  [Mathematics, three blue one brown, 3 blue 1 b...  2023-12-15T00:00:13Z   \n",
       "\n",
       "  viewCount likeCount favouriteCount commentCount duration definition caption  \n",
       "0    485539     27741           None          239    PT51S         hd   false  \n",
       "1    145397     10902           None          309     PT1M         hd   false  \n",
       "2    601220     45647           None          277     PT1M         hd   false  \n",
       "3    787794     49585           None          465     PT1M         hd   false  \n",
       "4   6960124    194125           None         1187    PT50S         hd   false  "
      ]
     },
     "execution_count": 24,
     "metadata": {},
     "output_type": "execute_result"
    }
   ],
   "source": [
    "video_df.head()"
   ]
  },
  {
   "cell_type": "code",
   "execution_count": 25,
   "metadata": {},
   "outputs": [
    {
     "data": {
      "text/plain": [
       "video_id          False\n",
       "channelTitle      False\n",
       "title             False\n",
       "description       False\n",
       "tags               True\n",
       "publishedAt       False\n",
       "viewCount         False\n",
       "likeCount         False\n",
       "favouriteCount     True\n",
       "commentCount      False\n",
       "duration          False\n",
       "definition        False\n",
       "caption           False\n",
       "dtype: bool"
      ]
     },
     "execution_count": 25,
     "metadata": {},
     "output_type": "execute_result"
    }
   ],
   "source": [
    "# Check for NULL values\n",
    "video_df.isnull().any()"
   ]
  },
  {
   "cell_type": "code",
   "execution_count": 26,
   "metadata": {},
   "outputs": [
    {
     "data": {
      "text/plain": [
       "video_id          object\n",
       "channelTitle      object\n",
       "title             object\n",
       "description       object\n",
       "tags              object\n",
       "publishedAt       object\n",
       "viewCount         object\n",
       "likeCount         object\n",
       "favouriteCount    object\n",
       "commentCount      object\n",
       "duration          object\n",
       "definition        object\n",
       "caption           object\n",
       "dtype: object"
      ]
     },
     "execution_count": 26,
     "metadata": {},
     "output_type": "execute_result"
    }
   ],
   "source": [
    "# Check data types\n",
    "video_df.dtypes"
   ]
  },
  {
   "cell_type": "code",
   "execution_count": 27,
   "metadata": {},
   "outputs": [],
   "source": [
    "# Convert count columns to numeric\n",
    "numeric_cols = ['viewCount', 'likeCount', 'favouriteCount', 'commentCount']\n",
    "video_df[numeric_cols] = video_df[numeric_cols].apply(pd.to_numeric, errors = 'coerce', axis = 1)"
   ]
  },
  {
   "cell_type": "code",
   "execution_count": 28,
   "metadata": {},
   "outputs": [],
   "source": [
    "# Find published day\n",
    "video_df['publishedAt'] = video_df['publishedAt'].apply(lambda x: parser.parse(x)) \n",
    "video_df['pushblishDayName'] = video_df['publishedAt'].apply(lambda x: x.strftime(\"%A\"))"
   ]
  },
  {
   "cell_type": "code",
   "execution_count": 29,
   "metadata": {},
   "outputs": [],
   "source": [
    "# convert duration to seconds\n",
    "video_df['durationSecs'] = video_df['duration'].apply(lambda x: isodate.parse_duration(x))\n",
    "video_df['durationSecs'] = video_df['durationSecs'].astype('timedelta64[s]')"
   ]
  },
  {
   "cell_type": "code",
   "execution_count": 30,
   "metadata": {},
   "outputs": [
    {
     "data": {
      "text/html": [
       "<div>\n",
       "<style scoped>\n",
       "    .dataframe tbody tr th:only-of-type {\n",
       "        vertical-align: middle;\n",
       "    }\n",
       "\n",
       "    .dataframe tbody tr th {\n",
       "        vertical-align: top;\n",
       "    }\n",
       "\n",
       "    .dataframe thead th {\n",
       "        text-align: right;\n",
       "    }\n",
       "</style>\n",
       "<table border=\"1\" class=\"dataframe\">\n",
       "  <thead>\n",
       "    <tr style=\"text-align: right;\">\n",
       "      <th></th>\n",
       "      <th>durationSecs</th>\n",
       "      <th>duration</th>\n",
       "    </tr>\n",
       "  </thead>\n",
       "  <tbody>\n",
       "    <tr>\n",
       "      <th>0</th>\n",
       "      <td>0 days 00:00:51</td>\n",
       "      <td>PT51S</td>\n",
       "    </tr>\n",
       "    <tr>\n",
       "      <th>1</th>\n",
       "      <td>0 days 00:01:00</td>\n",
       "      <td>PT1M</td>\n",
       "    </tr>\n",
       "    <tr>\n",
       "      <th>2</th>\n",
       "      <td>0 days 00:01:00</td>\n",
       "      <td>PT1M</td>\n",
       "    </tr>\n",
       "    <tr>\n",
       "      <th>3</th>\n",
       "      <td>0 days 00:01:00</td>\n",
       "      <td>PT1M</td>\n",
       "    </tr>\n",
       "    <tr>\n",
       "      <th>4</th>\n",
       "      <td>0 days 00:00:50</td>\n",
       "      <td>PT50S</td>\n",
       "    </tr>\n",
       "    <tr>\n",
       "      <th>...</th>\n",
       "      <td>...</td>\n",
       "      <td>...</td>\n",
       "    </tr>\n",
       "    <tr>\n",
       "      <th>152</th>\n",
       "      <td>0 days 00:15:08</td>\n",
       "      <td>PT15M8S</td>\n",
       "    </tr>\n",
       "    <tr>\n",
       "      <th>153</th>\n",
       "      <td>0 days 00:07:27</td>\n",
       "      <td>PT7M27S</td>\n",
       "    </tr>\n",
       "    <tr>\n",
       "      <th>154</th>\n",
       "      <td>0 days 00:01:49</td>\n",
       "      <td>PT1M49S</td>\n",
       "    </tr>\n",
       "    <tr>\n",
       "      <th>155</th>\n",
       "      <td>0 days 00:01:04</td>\n",
       "      <td>PT1M4S</td>\n",
       "    </tr>\n",
       "    <tr>\n",
       "      <th>156</th>\n",
       "      <td>0 days 00:06:14</td>\n",
       "      <td>PT6M14S</td>\n",
       "    </tr>\n",
       "  </tbody>\n",
       "</table>\n",
       "<p>157 rows × 2 columns</p>\n",
       "</div>"
      ],
      "text/plain": [
       "       durationSecs duration\n",
       "0   0 days 00:00:51    PT51S\n",
       "1   0 days 00:01:00     PT1M\n",
       "2   0 days 00:01:00     PT1M\n",
       "3   0 days 00:01:00     PT1M\n",
       "4   0 days 00:00:50    PT50S\n",
       "..              ...      ...\n",
       "152 0 days 00:15:08  PT15M8S\n",
       "153 0 days 00:07:27  PT7M27S\n",
       "154 0 days 00:01:49  PT1M49S\n",
       "155 0 days 00:01:04   PT1M4S\n",
       "156 0 days 00:06:14  PT6M14S\n",
       "\n",
       "[157 rows x 2 columns]"
      ]
     },
     "execution_count": 30,
     "metadata": {},
     "output_type": "execute_result"
    }
   ],
   "source": [
    "video_df[['durationSecs', 'duration']] "
   ]
  }
 ],
 "metadata": {
  "kernelspec": {
   "display_name": "Python 3",
   "language": "python",
   "name": "python3"
  },
  "language_info": {
   "codemirror_mode": {
    "name": "ipython",
    "version": 3
   },
   "file_extension": ".py",
   "mimetype": "text/x-python",
   "name": "python",
   "nbconvert_exporter": "python",
   "pygments_lexer": "ipython3",
   "version": "3.11.5"
  }
 },
 "nbformat": 4,
 "nbformat_minor": 2
}
